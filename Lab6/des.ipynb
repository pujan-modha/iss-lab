{
 "cells": [
  {
   "cell_type": "code",
   "execution_count": 8,
   "metadata": {},
   "outputs": [],
   "source": [
    "def permute(block, table):\n",
    "    return [block[i-1] for i in table]\n",
    "def shift_left(block, shifts):\n",
    "    return block[shifts:] + block[:shifts]\n",
    "def xor(bits1, bits2):\n",
    "    return [b1 ^ b2 for b1, b2 in zip(bits1, bits2)]\n",
    "IP = [58,50,42,34,26,18,10,2,60,52,44,36,28,20,12,4,62,54,46,38,30,22,14,6,64,56,48,40,32,24,16,8,57,49,41,33,25,17,9,1,59,51,43,35,27,19,11,3,61,53,45,37,29,21,13,5,63,55,47,39,31,23,15,7]\n",
    "IP_inv = [40,8,48,16,56,24,64,32,39,7,47,15,55,23,63,31,38,6,46,14,54,22,62,30,37,5,45,13,53,21,61,29,36,4,44,12,52,20,60,28,35,3,43,11,51,19,59,27,34,2,42,10,50,18,58,26,33,1,41,9,49,17,57,25]\n",
    "E = [32,1,2,3,4,5,4,5,6,7,8,9,8,9,10,11,12,13,12,13,14,15,16,17,16,17,18,19,20,21,20,21,22,23,24,25,24,25,26,27,28,29,28,29,30,31,32,1]\n",
    "P = [16,7,20,21,29,12,28,17,1,15,23,26,5,18,31,10,2,8,24,14,32,27,3,9,19,13,30,6,22,11,4,25]\n",
    "S_boxes = [\n",
    "[[14,4,13,1,2,15,11,8,3,10,6,12,5,9,0,7],\n",
    "[0,15,7,4,14,2,13,1,10,6,12,11,9,5,3,8],\n",
    "[4,1,14,8,13,6,2,11,15,12,9,7,3,10,5,0],\n",
    "[15,12,8,2,4,9,1,7,5,11,3,14,10,0,6,13]],\n",
    "[[15,1,8,14,6,11,3,4,9,7,2,13,12,0,5,10],\n",
    "[3,13,4,7,15,2,8,14,12,0,1,10,6,9,11,5],\n",
    "[0,14,7,11,10,4,13,1,5,8,12,6,9,3,2,15],\n",
    "[13,8,10,1,3,15,4,2,11,6,7,12,0,5,14,9]],\n",
    "[[10,0,9,14,6,3,15,5,1,13,12,7,11,4,2,8],\n",
    "[13,7,0,9,3,4,6,10,2,8,5,14,12,11,15,1],\n",
    "[13,6,4,9,8,15,3,0,11,1,2,12,5,10,14,7],\n",
    "[1,10,13,0,6,9,8,7,4,15,14,3,11,5,2,12]],\n",
    "[[7,13,14,3,0,6,9,10,1,2,8,5,11,12,4,15],\n",
    "[13,8,11,5,6,15,0,3,4,7,2,12,1,10,14,9],\n",
    "[10,6,9,0,12,11,7,13,15,1,3,14,5,2,8,4],\n",
    "[3,15,0,6,10,1,13,8,9,4,5,11,12,7,2,14]],\n",
    "[[2,12,4,1,7,10,11,6,8,5,3,15,13,0,14,9],\n",
    "[14,11,2,12,4,7,13,1,5,0,15,10,3,9,8,6],\n",
    "[4,2,1,11,10,13,7,8,15,9,12,5,6,3,0,14],\n",
    "[11,8,12,7,1,14,2,13,6,15,0,9,10,4,5,3]],\n",
    "[[12,1,10,15,9,2,6,8,0,13,3,4,14,7,5,11],\n",
    "[10,15,4,2,7,12,9,5,6,1,13,14,0,11,3,8],\n",
    "[9,14,15,5,2,8,12,3,7,0,4,10,1,13,11,6],\n",
    "[4,3,2,12,9,5,15,10,11,14,1,7,6,0,8,13]],\n",
    "[[4,11,2,14,15,0,8,13,3,12,9,7,5,10,6,1],\n",
    "[13,0,11,7,4,9,1,10,14,3,5,12,2,15,8,6],\n",
    "[1,4,11,13,12,3,7,14,10,15,6,8,0,5,9,2],\n",
    "[6,11,13,8,1,4,10,7,9,5,0,15,14,2,3,12]],\n",
    "[[13,2,8,4,6,15,11,1,10,9,3,14,5,0,12,7],\n",
    "[1,15,13,8,10,3,7,4,12,5,6,11,0,14,9,2],\n",
    "[7,11,4,1,9,12,14,2,0,6,10,13,15,3,5,8],\n",
    "[2,1,14,7,4,10,8,13,15,12,9,0,3,5,6,11]]\n",
    "]\n",
    "PC1 = [57,49,41,33,25,17,9,1,58,50,42,34,26,18,10,2,59,51,43,35,27,19,11,3,60,52,44,36,63,55,47,39,31,23,15,7,62,54,46,38,30,22,14,6,61,53,45,37,29,21,13,5,28,20,12,4]\n",
    "PC2 = [14,17,11,24,1,5,3,28,15,6,21,10,23,19,12,4,26,8,16,7,27,20,13,2,41,52,31,37,47,55,30,40,51,45,33,48,44,49,39,56,34,53,46,42,50,36,29,32]\n",
    "shifts_table = [1,1,2,2,2,2,2,2,1,2,2,2,2,2,2,1]"
   ]
  },
  {
   "cell_type": "code",
   "execution_count": 9,
   "metadata": {},
   "outputs": [],
   "source": [
    "def generate_keys(key):\n",
    "    key = permute(key, PC1)\n",
    "    left = key[:28]\n",
    "    right = key[28:]\n",
    "    keys = []\n",
    "    for shift in shifts_table:\n",
    "        left = shift_left(left, shift)\n",
    "        right = shift_left(right, shift)\n",
    "        keys.append(permute(left+right, PC2))\n",
    "    return keys"
   ]
  },
  {
   "cell_type": "code",
   "execution_count": 10,
   "metadata": {},
   "outputs": [],
   "source": [
    "def s_box_substitution(bits):\n",
    "    output = []\n",
    "    for i in range(8):\n",
    "        block = bits[i*6:(i+1)*6]\n",
    "        row = (block[0] << 1) + block[5]\n",
    "        column = (block[1] << 3) + (block[2] << 2) + (block[3] << 1) + block[4]\n",
    "        output += [int(x) for x in format(S_boxes[i][row][column], '04b')]\n",
    "    return output"
   ]
  },
  {
   "cell_type": "code",
   "execution_count": 11,
   "metadata": {},
   "outputs": [],
   "source": [
    "def feistel(right, key):\n",
    "    expanded = permute(right, E)\n",
    "    xored = xor(expanded, key)\n",
    "    substituted = s_box_substitution(xored)\n",
    "    return permute(substituted, P)"
   ]
  },
  {
   "cell_type": "code",
   "execution_count": 12,
   "metadata": {},
   "outputs": [],
   "source": [
    "def des_encrypt(block, keys):\n",
    "    block = permute(block, IP)\n",
    "    left, right = block[:32], block[32:]\n",
    "    for key in keys:\n",
    "        temp = right\n",
    "        right = xor(left, feistel(right, key))\n",
    "        left = temp\n",
    "    combined = right + left\n",
    "    return permute(combined, IP_inv)"
   ]
  },
  {
   "cell_type": "code",
   "execution_count": 13,
   "metadata": {},
   "outputs": [],
   "source": [
    "def des_decrypt(block, keys):\n",
    "    block = permute(block, IP)\n",
    "    left, right = block[:32], block[32:]\n",
    "    for key in reversed(keys):\n",
    "        temp = right\n",
    "        right = xor(left, feistel(right, key))\n",
    "        left = temp\n",
    "    combined = right + left\n",
    "    return permute(combined, IP_inv)"
   ]
  },
  {
   "cell_type": "code",
   "execution_count": 14,
   "metadata": {},
   "outputs": [
    {
     "name": "stdout",
     "output_type": "stream",
     "text": [
      "Ciphertext: 1000010111101000000100110101010000001111000010101011010000000101\n",
      "Decrypted: 0000000100100011010001010110011110001001101010111100110111101111\n"
     ]
    }
   ],
   "source": [
    "if __name__ == \"__main__\":\n",
    "    key = [int(x) for x in format(0x133457799BBCDFF1, '064b')]\n",
    "    data = [int(x) for x in format(0x0123456789ABCDEF, '064b')]\n",
    "    keys = generate_keys(key)\n",
    "    enc = des_encrypt(data, keys)\n",
    "    dec = des_decrypt(enc, keys)\n",
    "    print(\"Ciphertext:\", ''.join(str(bit) for bit in enc))\n",
    "    print(\"Decrypted:\", ''.join(str(bit) for bit in dec))"
   ]
  }
 ],
 "metadata": {
  "kernelspec": {
   "display_name": "Python 3",
   "language": "python",
   "name": "python3"
  },
  "language_info": {
   "codemirror_mode": {
    "name": "ipython",
    "version": 3
   },
   "file_extension": ".py",
   "mimetype": "text/x-python",
   "name": "python",
   "nbconvert_exporter": "python",
   "pygments_lexer": "ipython3",
   "version": "3.13.2"
  }
 },
 "nbformat": 4,
 "nbformat_minor": 2
}
