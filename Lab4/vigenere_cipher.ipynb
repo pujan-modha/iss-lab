{
 "cells": [
  {
   "cell_type": "code",
   "execution_count": 1,
   "metadata": {},
   "outputs": [],
   "source": [
    "def vigenere_encrypt(text, key):\n",
    "    encrypted_text = \"\"\n",
    "    key = key * (len(text) // len(key)) + key[:len(text) % len(key)]\n",
    "    \n",
    "    for i in range(len(text)):\n",
    "        if text[i].isalpha():\n",
    "            shift = ord(key[i].lower()) - ord('a')\n",
    "            if text[i].isupper():\n",
    "                encrypted_text += chr((ord(text[i]) - ord('A') + shift) % 26 + ord('A'))\n",
    "            else:\n",
    "                encrypted_text += chr((ord(text[i]) - ord('a') + shift) % 26 + ord('a'))\n",
    "        else:\n",
    "            encrypted_text += text[i]\n",
    "    \n",
    "    return encrypted_text"
   ]
  },
  {
   "cell_type": "code",
   "execution_count": 2,
   "metadata": {},
   "outputs": [],
   "source": [
    "def vigenere_decrypt(text, key):\n",
    "    decrypted_text = \"\"\n",
    "    key = key * (len(text) // len(key)) + key[:len(text) % len(key)]\n",
    "    \n",
    "    for i in range(len(text)):\n",
    "        if text[i].isalpha():\n",
    "            shift = ord(key[i].lower()) - ord('a')\n",
    "            if text[i].isupper():\n",
    "                decrypted_text += chr((ord(text[i]) - ord('A') - shift) % 26 + ord('A'))\n",
    "            else:\n",
    "                decrypted_text += chr((ord(text[i]) - ord('a') - shift) % 26 + ord('a'))\n",
    "        else:\n",
    "            decrypted_text += text[i]\n",
    "    \n",
    "    return decrypted_text"
   ]
  },
  {
   "cell_type": "code",
   "execution_count": 3,
   "metadata": {},
   "outputs": [
    {
     "name": "stdout",
     "output_type": "stream",
     "text": [
      "Encrypted: Bimhn\n",
      "Decrypted: Pujan\n"
     ]
    }
   ],
   "source": [
    "plaintext = \"Pujan\"\n",
    "key = \"Modha\"\n",
    "ciphertext = vigenere_encrypt(plaintext, key)\n",
    "print(\"Encrypted:\", ciphertext)\n",
    "decrypted = vigenere_decrypt(ciphertext, key)\n",
    "print(\"Decrypted:\", decrypted)"
   ]
  }
 ],
 "metadata": {
  "kernelspec": {
   "display_name": "Python 3",
   "language": "python",
   "name": "python3"
  },
  "language_info": {
   "codemirror_mode": {
    "name": "ipython",
    "version": 3
   },
   "file_extension": ".py",
   "mimetype": "text/x-python",
   "name": "python",
   "nbconvert_exporter": "python",
   "pygments_lexer": "ipython3",
   "version": "3.13.1"
  }
 },
 "nbformat": 4,
 "nbformat_minor": 2
}
