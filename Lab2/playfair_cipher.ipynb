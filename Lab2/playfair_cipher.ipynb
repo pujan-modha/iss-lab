{
 "cells": [
  {
   "cell_type": "code",
   "execution_count": 16,
   "metadata": {},
   "outputs": [],
   "source": [
    "key_matrix = [\n",
    "    ['P', 'U', 'I', 'A', 'N'],\n",
    "    ['B', 'C', 'D', 'E', 'F'],\n",
    "    ['G', 'H', 'K', 'L', 'M'],\n",
    "    ['O', 'Q', 'R', 'S', 'T'],\n",
    "    ['V', 'W', 'X', 'Y', 'Z']\n",
    "]"
   ]
  },
  {
   "cell_type": "code",
   "execution_count": 17,
   "metadata": {},
   "outputs": [],
   "source": [
    "def pair_position(char):\n",
    "    for row in range(5):\n",
    "        for col in range(5):\n",
    "            if key_matrix[row][col] == char:\n",
    "                return row, col\n",
    "    return None\n"
   ]
  },
  {
   "cell_type": "code",
   "execution_count": 18,
   "metadata": {},
   "outputs": [],
   "source": [
    "def encrypt_pair(pair):\n",
    "    row1, col1 = pair_position(pair[0])\n",
    "    row2, col2 = pair_position(pair[1])\n",
    "\n",
    "    if row1 == row2:  # Same row\n",
    "        return key_matrix[row1][(col1 + 1) % 5] + key_matrix[row2][(col2 + 1) % 5]\n",
    "    elif col1 == col2:  # Same column\n",
    "        return key_matrix[(row1 + 1) % 5][col1] + key_matrix[(row2 + 1) % 5][col2]\n",
    "    else:  # Rectangle\n",
    "        return key_matrix[row1][col2] + key_matrix[row2][col1]"
   ]
  },
  {
   "cell_type": "code",
   "execution_count": 21,
   "metadata": {},
   "outputs": [],
   "source": [
    "def playfair_cipher(plaintext):\n",
    "    plaintext = plaintext.upper().replace('J', 'I').replace(' ', '')\n",
    "\n",
    "    pairs = []\n",
    "    i = 0\n",
    "    while i < len(plaintext):\n",
    "        if i + 1 < len(plaintext) and plaintext[i] != plaintext[i + 1]:\n",
    "            pairs.append(plaintext[i] + plaintext[i + 1])\n",
    "            i += 2\n",
    "        else:\n",
    "            pairs.append(plaintext[i] + 'X')\n",
    "            i += 1\n",
    "\n",
    "    ciphertext = ''\n",
    "    for pair in pairs:\n",
    "        ciphertext += encrypt_pair(pair)\n",
    "\n",
    "    return ciphertext"
   ]
  },
  {
   "cell_type": "code",
   "execution_count": 24,
   "metadata": {},
   "outputs": [
    {
     "name": "stdout",
     "output_type": "stream",
     "text": [
      "Encrypted Text: UIANIZ\n"
     ]
    }
   ],
   "source": [
    "plaintext = input(\"Plain Text: \")\n",
    "ciphertext = playfair_cipher(plaintext)\n",
    "\n",
    "print(f\"Encrypted Text:\", ciphertext)"
   ]
  }
 ],
 "metadata": {
  "kernelspec": {
   "display_name": "Python 3",
   "language": "python",
   "name": "python3"
  },
  "language_info": {
   "codemirror_mode": {
    "name": "ipython",
    "version": 3
   },
   "file_extension": ".py",
   "mimetype": "text/x-python",
   "name": "python",
   "nbconvert_exporter": "python",
   "pygments_lexer": "ipython3",
   "version": "3.13.1"
  }
 },
 "nbformat": 4,
 "nbformat_minor": 2
}
