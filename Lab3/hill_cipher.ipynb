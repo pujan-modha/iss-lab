{
 "cells": [
  {
   "cell_type": "code",
   "execution_count": 6,
   "metadata": {},
   "outputs": [],
   "source": [
    "def hill_cipher(plaintext, key_matrix):\n",
    "    plaintext = plaintext.replace(' ', '')\n",
    "    if len(plaintext) % 2 != 0:\n",
    "        plaintext += 'X'\n",
    "    \n",
    "    plaintext_numbers = [ord(char.upper()) - 65 for char in plaintext]\n",
    "    \n",
    "    ciphertext = \"\"\n",
    "    for i in range(0, len(plaintext_numbers), 2):\n",
    "        num1 = plaintext_numbers[i]\n",
    "        num2 = plaintext_numbers[i + 1]\n",
    "        \n",
    "        enc1 = (key_matrix[0][0] * num1 + key_matrix[0][1] * num2) % 26\n",
    "        enc2 = (key_matrix[1][0] * num1 + key_matrix[1][1] * num2) % 26\n",
    "        \n",
    "        ciphertext += chr(enc1 + 65)\n",
    "        ciphertext += chr(enc2 + 65)\n",
    "    \n",
    "    return ciphertext"
   ]
  },
  {
   "cell_type": "code",
   "execution_count": 7,
   "metadata": {},
   "outputs": [
    {
     "name": "stdout",
     "output_type": "stream",
     "text": [
      "Encrypted Text: \n"
     ]
    }
   ],
   "source": [
    "key_matrix = [[1, 9], [0, 5]]\n",
    "plaintext = input(\"Plain Text: \")\n",
    "ciphertext = hill_cipher(plaintext, key_matrix)\n",
    "print(f\"Encrypted Text:\", ciphertext)"
   ]
  }
 ],
 "metadata": {
  "kernelspec": {
   "display_name": "Python 3",
   "language": "python",
   "name": "python3"
  },
  "language_info": {
   "codemirror_mode": {
    "name": "ipython",
    "version": 3
   },
   "file_extension": ".py",
   "mimetype": "text/x-python",
   "name": "python",
   "nbconvert_exporter": "python",
   "pygments_lexer": "ipython3",
   "version": "3.13.1"
  }
 },
 "nbformat": 4,
 "nbformat_minor": 2
}
