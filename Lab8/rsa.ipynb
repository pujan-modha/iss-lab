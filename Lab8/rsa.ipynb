{
 "cells": [
  {
   "cell_type": "code",
   "execution_count": 1,
   "metadata": {},
   "outputs": [],
   "source": [
    "import random\n"
   ]
  },
  {
   "cell_type": "code",
   "execution_count": 2,
   "metadata": {},
   "outputs": [],
   "source": [
    "def is_prime(n):\n",
    "    if n<2:return False\n",
    "    for i in range(2,int(n**0.5)+1):\n",
    "        if n%i==0:return False\n",
    "    return True"
   ]
  },
  {
   "cell_type": "code",
   "execution_count": 3,
   "metadata": {},
   "outputs": [],
   "source": [
    "def gen_prime(a=100,b=200):\n",
    "    while True:\n",
    "        p=random.randrange(a,b)\n",
    "        if is_prime(p):return p"
   ]
  },
  {
   "cell_type": "code",
   "execution_count": 4,
   "metadata": {},
   "outputs": [],
   "source": [
    "def egcd(a,b):\n",
    "    if b==0:return a,1,0\n",
    "    g,x,y=egcd(b,a%b)\n",
    "    return g,y,x-a//b*y"
   ]
  },
  {
   "cell_type": "code",
   "execution_count": 5,
   "metadata": {},
   "outputs": [],
   "source": [
    "def modinv(a,m):\n",
    "    g,x,y=egcd(a,m)\n",
    "    if g!=1:raise Exception('No inverse')\n",
    "    return x%m"
   ]
  },
  {
   "cell_type": "code",
   "execution_count": 6,
   "metadata": {},
   "outputs": [],
   "source": [
    "def keygen():\n",
    "    p,q=gen_prime(),gen_prime()\n",
    "    n=p*q\n",
    "    phi=(p-1)*(q-1)\n",
    "    e=65537\n",
    "    while egcd(e,phi)[0]!=1:e+=2\n",
    "    d=modinv(e,phi)\n",
    "    return ((e,n),(d,n))"
   ]
  },
  {
   "cell_type": "code",
   "execution_count": 7,
   "metadata": {},
   "outputs": [],
   "source": [
    "def encrypt(pk,txt):\n",
    "    e,n=pk\n",
    "    return [pow(ord(c),e,n) for c in txt]"
   ]
  },
  {
   "cell_type": "code",
   "execution_count": 8,
   "metadata": {},
   "outputs": [],
   "source": [
    "def decrypt(sk,ct):\n",
    "    d,n=sk\n",
    "    return ''.join([chr(pow(c,d,n)) for c in ct])"
   ]
  },
  {
   "cell_type": "code",
   "execution_count": 9,
   "metadata": {},
   "outputs": [
    {
     "name": "stdout",
     "output_type": "stream",
     "text": [
      "hello\n"
     ]
    }
   ],
   "source": [
    "if __name__=='__main__':\n",
    "    pk,sk=keygen()\n",
    "    m='hello'\n",
    "    c=encrypt(pk,m)\n",
    "    print(decrypt(sk,c))"
   ]
  }
 ],
 "metadata": {
  "kernelspec": {
   "display_name": "Python 3",
   "language": "python",
   "name": "python3"
  },
  "language_info": {
   "codemirror_mode": {
    "name": "ipython",
    "version": 3
   },
   "file_extension": ".py",
   "mimetype": "text/x-python",
   "name": "python",
   "nbconvert_exporter": "python",
   "pygments_lexer": "ipython3",
   "version": "3.13.2"
  }
 },
 "nbformat": 4,
 "nbformat_minor": 2
}
