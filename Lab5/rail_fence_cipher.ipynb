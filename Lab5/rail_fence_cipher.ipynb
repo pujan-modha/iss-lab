{
 "cells": [
  {
   "cell_type": "code",
   "execution_count": 1,
   "metadata": {},
   "outputs": [],
   "source": [
    "def rail_fence_encrypt(text, rails):\n",
    "\tfence = ['' for _ in range(rails)]\n",
    "\trow, step = 0, 1\n",
    "\tfor char in text:\n",
    "\t\tfence[row] += char\n",
    "\t\tif row == 0:\n",
    "\t\t\tstep = 1\n",
    "\t\telif row == rails - 1:\n",
    "\t\t\tstep = -1\n",
    "\t\t\trow += step\n",
    "\treturn ''.join(fence)\n"
   ]
  },
  {
   "cell_type": "code",
   "execution_count": 2,
   "metadata": {},
   "outputs": [],
   "source": [
    "def rail_fence_decrypt(cipher, rails):\n",
    "\tpattern = ['' for _ in range(len(cipher))]\n",
    "\trow, step = 0, 1\n",
    "\n",
    "\tfor i in range(len(cipher)):\n",
    "\t\tpattern[i] = row\n",
    "\t\tif row == 0:\n",
    "\t\t\tstep = 1\n",
    "\t\telif row == rails - 1:\n",
    "\t\t\tstep = -1\n",
    "\t\trow += step\n",
    "\n",
    "\tindexes = sorted(range(len(cipher)), key=lambda i: pattern[i])\n",
    "\tresult = [''] * len(cipher)\n",
    "\tindex = 0\n",
    "\tfor pos in indexes:\n",
    "\t\tresult[pos] = cipher[index]\n",
    "\t\tindex += 1\n",
    "\n",
    "\treturn ''.join(result)\n"
   ]
  },
  {
   "cell_type": "code",
   "execution_count": 3,
   "metadata": {},
   "outputs": [
    {
     "name": "stdout",
     "output_type": "stream",
     "text": [
      "Encrypted: Pujan Modha\n",
      "Decrypted: Padnu hMjoa\n"
     ]
    }
   ],
   "source": [
    "text = \"Pujan Modha\"\n",
    "\n",
    "encrypted = rail_fence_encrypt(text, 3)\n",
    "decrypted = rail_fence_decrypt(encrypted, 3)\n",
    "\n",
    "print(\"Encrypted:\", encrypted)\n",
    "print(\"Decrypted:\", decrypted)\n"
   ]
  }
 ],
 "metadata": {
  "kernelspec": {
   "display_name": "Python 3",
   "language": "python",
   "name": "python3"
  },
  "language_info": {
   "codemirror_mode": {
    "name": "ipython",
    "version": 3
   },
   "file_extension": ".py",
   "mimetype": "text/x-python",
   "name": "python",
   "nbconvert_exporter": "python",
   "pygments_lexer": "ipython3",
   "version": "3.13.1"
  }
 },
 "nbformat": 4,
 "nbformat_minor": 2
}
