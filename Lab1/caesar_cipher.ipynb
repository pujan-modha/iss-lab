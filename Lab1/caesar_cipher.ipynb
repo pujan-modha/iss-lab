{
 "cells": [
  {
   "cell_type": "code",
   "execution_count": 1,
   "metadata": {},
   "outputs": [],
   "source": [
    "def caesar_cipher(plaintext, shift):\n",
    "  ciphertext = \"\"\n",
    "\n",
    "  for i in range(len(plaintext)):\n",
    "    character = plaintext[i].lower()\n",
    "\n",
    "    if character == \" \":\n",
    "      ciphertext += \" \"\n",
    "    else:\n",
    "      ciphertext += chr((ord(character) + shift - 97) % 26 + 97)\n",
    "\n",
    "  return ciphertext"
   ]
  },
  {
   "cell_type": "code",
   "execution_count": 2,
   "metadata": {},
   "outputs": [
    {
     "name": "stdout",
     "output_type": "stream",
     "text": [
      "Encrypted Text: inctg fhwat\n"
     ]
    }
   ],
   "source": [
    "plaintext = input(\"Plain Text: \")\n",
    "shift = int(input(\"Shift: \"))\n",
    "\n",
    "encryptedtext = caesar_cipher(plaintext, shift)\n",
    "\n",
    "print(f\"Encrypted Text: {encryptedtext}\")"
   ]
  }
 ],
 "metadata": {
  "kernelspec": {
   "display_name": "Python 3",
   "language": "python",
   "name": "python3"
  },
  "language_info": {
   "codemirror_mode": {
    "name": "ipython",
    "version": 3
   },
   "file_extension": ".py",
   "mimetype": "text/x-python",
   "name": "python",
   "nbconvert_exporter": "python",
   "pygments_lexer": "ipython3",
   "version": "3.13.1"
  }
 },
 "nbformat": 4,
 "nbformat_minor": 2
}
