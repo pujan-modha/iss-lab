{
 "cells": [
  {
   "cell_type": "code",
   "execution_count": 1,
   "metadata": {},
   "outputs": [],
   "source": [
    "sbox=[99,124,119,123,242,107,111,197,48,1,103,43,254,215,171,118,202,130,201,125,250,89,71,240,173,212,162,175,156,164,114,192,183,253,147,38,54,63,247,204,52,165,229,241,113,216,49,21,4,199,35,195,24,150,5,154,7,18,128,226,235,39,178,117,9,131,44,26,27,110,90,160,82,59,214,179,41,227,47,132,83,209,0,237,32,252,177,91,106,203,190,57,74,76,88,207,208,239,170,251,67,77,51,133,69,249,2,127,80,60,159,168,81,163,64,143,146,157,56,245,188,182,218,33,16,255,243,210,205,12,19,236,95,151,68,23,196,167,126,61,100,93,25,115,96,129,79,220,34,42,144,136,70,238,184,20,222,94,11,219,224,50,58,10,73,6,36,92,194,211,172,98,145,149,228,121,231,200,55,109,141,213,78,169,108,86,244,234,101,122,174,8,186,120,37,46,28,166,180,198,232,221,116,31,75,189,139,138,112,62,181,102,72,3,246,14,97,53,87,185,134,193,29,158,225,248,152,17,105,217,142,148,155,30,135,233,206,85,40,223,140,161,137,13,191,230,66,104,65,153,45,15,176,84,187,22]\n",
    "Rcon=[1,2,4,8,16,32,64,128,27,54]"
   ]
  },
  {
   "cell_type": "code",
   "execution_count": 2,
   "metadata": {},
   "outputs": [],
   "source": [
    "def subw(w): return [sbox[b] for b in w]\n",
    "def rotw(w): return w[1:]+w[:1]\n",
    "def keyexp(k):\n",
    " Nk=4; Nr=10; w=[0]*(4*(Nr+1))\n",
    " for i in range(Nk): w[i]=[k[4*i+j] for j in range(4)]\n",
    " for i in range(Nk,4*(Nr+1)):\n",
    "  t=w[i-1][:]\n",
    "  if i%Nk==0:\n",
    "   t=subw(rotw(t))\n",
    "   t[0]^=Rcon[i//Nk-1]\n",
    "  w[i]=[w[i-Nk][j]^t[j] for j in range(4)]\n",
    " return w"
   ]
  },
  {
   "cell_type": "code",
   "execution_count": 3,
   "metadata": {},
   "outputs": [],
   "source": [
    "def addkey(s,w):\n",
    " for i in range(4):\n",
    "  for j in range(4): s[4*i+j]^=w[i][j]\n",
    "def subb(s):\n",
    " for i in range(16): s[i]=sbox[s[i]]\n",
    "def shif(s):\n",
    " s[1],s[5],s[9],s[13]=s[5],s[9],s[13],s[1]\n",
    " s[2],s[6],s[10],s[14]=s[10],s[14],s[2],s[6]\n",
    " s[3],s[7],s[11],s[15]=s[15],s[3],s[7],s[11]\n",
    "def xt(a): return ((a<<1)^27)&255 if a&128 else (a<<1)&255"
   ]
  },
  {
   "cell_type": "code",
   "execution_count": 4,
   "metadata": {},
   "outputs": [],
   "source": [
    "def mix(s):\n",
    " for i in range(4):\n",
    "  t=s[4*i:4*i+4]\n",
    "  a=t[0]^t[1]^t[2]^t[3]\n",
    "  u=t[0]\n",
    "  t0=xt(t[0]^t[1]); s[4*i+0]^=t0^a\n",
    "  t1=xt(t[1]^t[2]); s[4*i+1]^=t1^a\n",
    "  t2=xt(t[2]^t[3]); s[4*i+2]^=t2^a\n",
    "  t3=xt(t[3]^u); s[4*i+3]^=t3^a"
   ]
  },
  {
   "cell_type": "code",
   "execution_count": 5,
   "metadata": {},
   "outputs": [
    {
     "name": "stdout",
     "output_type": "stream",
     "text": [
      "[102, 233, 75, 212, 239, 138, 44, 59, 136, 76, 250, 89, 202, 52, 43, 46]\n"
     ]
    }
   ],
   "source": [
    "def enc(b,k):\n",
    " s=b[:]\n",
    " w=keyexp(k)\n",
    " addkey(s,[w[i] for i in range(4)])\n",
    " for r in range(1,10):\n",
    "  subb(s); shif(s); mix(s)\n",
    "  addkey(s,[w[4*r+i] for i in range(4)])\n",
    " subb(s); shif(s)\n",
    " addkey(s,[w[40+i] for i in range(4)])\n",
    " return s\n",
    "k=[0]*16\n",
    "p=[0]*16\n",
    "c=enc(p,k)\n",
    "print(c)"
   ]
  }
 ],
 "metadata": {
  "kernelspec": {
   "display_name": "Python 3",
   "language": "python",
   "name": "python3"
  },
  "language_info": {
   "codemirror_mode": {
    "name": "ipython",
    "version": 3
   },
   "file_extension": ".py",
   "mimetype": "text/x-python",
   "name": "python",
   "nbconvert_exporter": "python",
   "pygments_lexer": "ipython3",
   "version": "3.13.2"
  }
 },
 "nbformat": 4,
 "nbformat_minor": 2
}
